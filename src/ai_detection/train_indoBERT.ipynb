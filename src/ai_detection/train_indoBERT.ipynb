{
 "cells": [
  {
   "cell_type": "code",
   "execution_count": 1,
   "id": "edc2f413",
   "metadata": {},
   "outputs": [
    {
     "name": "stdout",
     "output_type": "stream",
     "text": [
      "WARNING:tensorflow:From c:\\Users\\MSI\\anaconda3\\Lib\\site-packages\\tf_keras\\src\\losses.py:2976: The name tf.losses.sparse_softmax_cross_entropy is deprecated. Please use tf.compat.v1.losses.sparse_softmax_cross_entropy instead.\n",
      "\n"
     ]
    }
   ],
   "source": [
    "import os\n",
    "import pandas as pd\n",
    "from sklearn.model_selection import train_test_split\n",
    "from transformers import BertTokenizer, BertForSequenceClassification, Trainer, TrainingArguments\n",
    "from torch.utils.data import Dataset\n",
    "import torch"
   ]
  },
  {
   "cell_type": "code",
   "execution_count": 2,
   "id": "70609b88",
   "metadata": {},
   "outputs": [
    {
     "data": {
      "application/vnd.microsoft.datawrangler.viewer.v0+json": {
       "columns": [
        {
         "name": "index",
         "rawType": "int64",
         "type": "integer"
        },
        {
         "name": "textOriginal",
         "rawType": "object",
         "type": "string"
        },
        {
         "name": "processed_text",
         "rawType": "object",
         "type": "string"
        },
        {
         "name": "label",
         "rawType": "int64",
         "type": "integer"
        }
       ],
       "conversionMethod": "pd.DataFrame",
       "ref": "9367bed5-f5ab-41d6-9759-5d74b667f7c4",
       "rows": [
        [
         "0",
         "sekilas kaya michael scofield",
         "kilas kaya michael scofield",
         "0"
        ],
        [
         "1",
         "menit 23:00 adalah niche yg bisa membuat penonton banyak pak sandi 😂",
         "menit 2300 niche yg tonton sandi",
         "0"
        ],
        [
         "2",
         "Puasa jgn bocor",
         "puasa jgn bocor",
         "0"
        ],
        [
         "3",
         "KPI nya penyerapan ",
         "kpi nya serap",
         "0"
        ],
        [
         "4",
         "Ada ordal selesai",
         "ordal selesai",
         "0"
        ]
       ],
       "shape": {
        "columns": 3,
        "rows": 5
       }
      },
      "text/html": [
       "<div>\n",
       "<style scoped>\n",
       "    .dataframe tbody tr th:only-of-type {\n",
       "        vertical-align: middle;\n",
       "    }\n",
       "\n",
       "    .dataframe tbody tr th {\n",
       "        vertical-align: top;\n",
       "    }\n",
       "\n",
       "    .dataframe thead th {\n",
       "        text-align: right;\n",
       "    }\n",
       "</style>\n",
       "<table border=\"1\" class=\"dataframe\">\n",
       "  <thead>\n",
       "    <tr style=\"text-align: right;\">\n",
       "      <th></th>\n",
       "      <th>textOriginal</th>\n",
       "      <th>processed_text</th>\n",
       "      <th>label</th>\n",
       "    </tr>\n",
       "  </thead>\n",
       "  <tbody>\n",
       "    <tr>\n",
       "      <th>0</th>\n",
       "      <td>sekilas kaya michael scofield</td>\n",
       "      <td>kilas kaya michael scofield</td>\n",
       "      <td>0</td>\n",
       "    </tr>\n",
       "    <tr>\n",
       "      <th>1</th>\n",
       "      <td>menit 23:00 adalah niche yg bisa membuat penon...</td>\n",
       "      <td>menit 2300 niche yg tonton sandi</td>\n",
       "      <td>0</td>\n",
       "    </tr>\n",
       "    <tr>\n",
       "      <th>2</th>\n",
       "      <td>Puasa jgn bocor</td>\n",
       "      <td>puasa jgn bocor</td>\n",
       "      <td>0</td>\n",
       "    </tr>\n",
       "    <tr>\n",
       "      <th>3</th>\n",
       "      <td>KPI nya penyerapan</td>\n",
       "      <td>kpi nya serap</td>\n",
       "      <td>0</td>\n",
       "    </tr>\n",
       "    <tr>\n",
       "      <th>4</th>\n",
       "      <td>Ada ordal selesai</td>\n",
       "      <td>ordal selesai</td>\n",
       "      <td>0</td>\n",
       "    </tr>\n",
       "  </tbody>\n",
       "</table>\n",
       "</div>"
      ],
      "text/plain": [
       "                                        textOriginal  \\\n",
       "0                      sekilas kaya michael scofield   \n",
       "1  menit 23:00 adalah niche yg bisa membuat penon...   \n",
       "2                                    Puasa jgn bocor   \n",
       "3                                KPI nya penyerapan    \n",
       "4                                  Ada ordal selesai   \n",
       "\n",
       "                     processed_text  label  \n",
       "0       kilas kaya michael scofield      0  \n",
       "1  menit 2300 niche yg tonton sandi      0  \n",
       "2                   puasa jgn bocor      0  \n",
       "3                     kpi nya serap      0  \n",
       "4                     ordal selesai      0  "
      ]
     },
     "execution_count": 2,
     "metadata": {},
     "output_type": "execute_result"
    }
   ],
   "source": [
    "file_path = r'C:\\Users\\MSI\\OneDrive\\Dokumen\\Data MIning\\online-gambling-detection-project\\data\\processed\\cleaned_comments.csv'\n",
    "df = pd.read_csv(file_path)\n",
    "df.head()"
   ]
  },
  {
   "cell_type": "code",
   "execution_count": 3,
   "id": "35c10220",
   "metadata": {},
   "outputs": [],
   "source": [
    "df['textOriginal'] = df['textOriginal'].fillna('')\n",
    "X = df['textOriginal']\n",
    "y = df['label']"
   ]
  },
  {
   "cell_type": "code",
   "execution_count": 4,
   "id": "81f42ee8",
   "metadata": {},
   "outputs": [],
   "source": [
    "train_texts, val_texts, train_labels, val_labels = train_test_split(X, y, test_size=0.2, random_state=42)"
   ]
  },
  {
   "cell_type": "code",
   "execution_count": 5,
   "id": "4e99f266",
   "metadata": {},
   "outputs": [],
   "source": [
    "class CommentDataset(Dataset):\n",
    "    def __init__(self, texts, labels, tokenizer, max_length=128):\n",
    "        self.texts = texts\n",
    "        self.labels = labels\n",
    "        self.tokenizer = tokenizer\n",
    "        self.max_length = max_length\n",
    "\n",
    "    def __len__(self):\n",
    "        return len(self.texts)\n",
    "\n",
    "    def __getitem__(self, idx):\n",
    "        text = str(self.texts.iloc[idx])  \n",
    "        label = int(self.labels.iloc[idx])  \n",
    "        encoding = self.tokenizer(\n",
    "            text,\n",
    "            max_length=self.max_length,\n",
    "            padding='max_length',\n",
    "            truncation=True,\n",
    "            return_tensors=\"pt\"\n",
    "        )\n",
    "        return {\n",
    "            'input_ids': encoding['input_ids'].squeeze(),\n",
    "            'attention_mask': encoding['attention_mask'].squeeze(),\n",
    "            'labels': torch.tensor(label, dtype=torch.long)\n",
    "        }\n"
   ]
  },
  {
   "cell_type": "code",
   "execution_count": 6,
   "id": "39577eb3",
   "metadata": {},
   "outputs": [
    {
     "name": "stderr",
     "output_type": "stream",
     "text": [
      "Some weights of BertForSequenceClassification were not initialized from the model checkpoint at indobenchmark/indobert-base-p1 and are newly initialized: ['classifier.bias', 'classifier.weight']\n",
      "You should probably TRAIN this model on a down-stream task to be able to use it for predictions and inference.\n"
     ]
    }
   ],
   "source": [
    "# Load IndoBERT tokenizer and model\n",
    "tokenizer = BertTokenizer.from_pretrained(\"indobenchmark/indobert-base-p1\")\n",
    "model = BertForSequenceClassification.from_pretrained(\"indobenchmark/indobert-base-p1\", num_labels=2)"
   ]
  },
  {
   "cell_type": "code",
   "execution_count": 7,
   "id": "6f526435",
   "metadata": {},
   "outputs": [],
   "source": [
    "train_dataset = CommentDataset(train_texts, train_labels, tokenizer)\n",
    "val_dataset = CommentDataset(val_texts, val_labels, tokenizer)"
   ]
  },
  {
   "cell_type": "code",
   "execution_count": 8,
   "id": "75e7ceee",
   "metadata": {},
   "outputs": [],
   "source": [
    "def compute_metrics(eval_pred):\n",
    "    logits, labels = eval_pred\n",
    "    predictions = torch.argmax(torch.tensor(logits), dim=-1)\n",
    "    accuracy = (predictions == torch.tensor(labels)).float().mean().item()\n",
    "    return {\"accuracy\": accuracy}"
   ]
  },
  {
   "cell_type": "code",
   "execution_count": 9,
   "id": "367749c0",
   "metadata": {},
   "outputs": [],
   "source": [
    "training_args = TrainingArguments(\n",
    "    output_dir='../../models/indoBERT',\n",
    "    num_train_epochs=3,\n",
    "    per_device_train_batch_size=16,  \n",
    "    per_device_eval_batch_size=16,\n",
    "    eval_strategy=\"epoch\",  # Ganti evaluation_strategy dengan eval_strategy\n",
    "    save_strategy=\"epoch\",\n",
    "    logging_dir='../../models/indoBERT/logs',\n",
    "    logging_steps=10,\n",
    "    load_best_model_at_end=True,\n",
    "    metric_for_best_model=\"accuracy\",\n",
    "    save_total_limit=1\n",
    ")"
   ]
  },
  {
   "cell_type": "code",
   "execution_count": 10,
   "id": "476c017f",
   "metadata": {},
   "outputs": [],
   "source": [
    "# Define a Trainer\n",
    "trainer = Trainer(\n",
    "    model=model,\n",
    "    args=training_args,\n",
    "    train_dataset=train_dataset,\n",
    "    eval_dataset=val_dataset,\n",
    "    compute_metrics=compute_metrics  # Tambahkan metrik evaluasi\n",
    ")"
   ]
  },
  {
   "cell_type": "code",
   "execution_count": 11,
   "id": "42f10305",
   "metadata": {},
   "outputs": [
    {
     "data": {
      "text/html": [
       "\n",
       "    <div>\n",
       "      \n",
       "      <progress value='2007' max='2007' style='width:300px; height:20px; vertical-align: middle;'></progress>\n",
       "      [2007/2007 3:18:29, Epoch 3/3]\n",
       "    </div>\n",
       "    <table border=\"1\" class=\"dataframe\">\n",
       "  <thead>\n",
       " <tr style=\"text-align: left;\">\n",
       "      <th>Epoch</th>\n",
       "      <th>Training Loss</th>\n",
       "      <th>Validation Loss</th>\n",
       "      <th>Accuracy</th>\n",
       "    </tr>\n",
       "  </thead>\n",
       "  <tbody>\n",
       "    <tr>\n",
       "      <td>1</td>\n",
       "      <td>0.018800</td>\n",
       "      <td>0.055343</td>\n",
       "      <td>0.990273</td>\n",
       "    </tr>\n",
       "    <tr>\n",
       "      <td>2</td>\n",
       "      <td>0.001100</td>\n",
       "      <td>0.036862</td>\n",
       "      <td>0.993640</td>\n",
       "    </tr>\n",
       "    <tr>\n",
       "      <td>3</td>\n",
       "      <td>0.000800</td>\n",
       "      <td>0.041348</td>\n",
       "      <td>0.993266</td>\n",
       "    </tr>\n",
       "  </tbody>\n",
       "</table><p>"
      ],
      "text/plain": [
       "<IPython.core.display.HTML object>"
      ]
     },
     "metadata": {},
     "output_type": "display_data"
    },
    {
     "data": {
      "text/plain": [
       "TrainOutput(global_step=2007, training_loss=0.03581837790681297, metrics={'train_runtime': 11917.1816, 'train_samples_per_second': 2.691, 'train_steps_per_second': 0.168, 'total_flos': 2109295553057280.0, 'train_loss': 0.03581837790681297, 'epoch': 3.0})"
      ]
     },
     "execution_count": 11,
     "metadata": {},
     "output_type": "execute_result"
    }
   ],
   "source": [
    "trainer.train()"
   ]
  },
  {
   "cell_type": "code",
   "execution_count": 12,
   "id": "4e0f3267",
   "metadata": {},
   "outputs": [
    {
     "name": "stdout",
     "output_type": "stream",
     "text": [
      "IndoBERT model and tokenizer saved!\n"
     ]
    }
   ],
   "source": [
    "model.save_pretrained('../../models/indoBERT')\n",
    "tokenizer.save_pretrained('../../models/indoBERT')\n",
    "print(\"IndoBERT model and tokenizer saved!\")"
   ]
  },
  {
   "cell_type": "code",
   "execution_count": 2,
   "id": "4f063917",
   "metadata": {},
   "outputs": [
    {
     "name": "stdout",
     "output_type": "stream",
     "text": [
      "Model dan tokenizer berhasil dimuat!\n"
     ]
    }
   ],
   "source": [
    "model_path = 'C:/Users/MSI/OneDrive/Dokumen/Data Mining/online-gambling-detection-project/models/indoBERT'\n",
    "model = BertForSequenceClassification.from_pretrained(model_path)\n",
    "tokenizer = BertTokenizer.from_pretrained(model_path)\n",
    "print(\"Model dan tokenizer berhasil dimuat!\")"
   ]
  }
 ],
 "metadata": {
  "kernelspec": {
   "display_name": "base",
   "language": "python",
   "name": "python3"
  },
  "language_info": {
   "codemirror_mode": {
    "name": "ipython",
    "version": 3
   },
   "file_extension": ".py",
   "mimetype": "text/x-python",
   "name": "python",
   "nbconvert_exporter": "python",
   "pygments_lexer": "ipython3",
   "version": "3.12.7"
  }
 },
 "nbformat": 4,
 "nbformat_minor": 5
}
