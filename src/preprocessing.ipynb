{
 "cells": [
  {
   "cell_type": "code",
   "execution_count": 1,
   "id": "3ba27afc",
   "metadata": {},
   "outputs": [],
   "source": [
    "import pandas as pd\n",
    "import sys\n",
    "import os\n",
    "\n",
    "sys.path.append(os.path.abspath('../src/utils'))\n",
    "sys.path.append(os.path.abspath('../models'))\n",
    "\n",
    "from data_loader import load_raw_data\n",
    "from text_preprocessing import preprocess_text\n",
    "from keyword_filtering import KeywordFilter"
   ]
  },
  {
   "cell_type": "code",
   "execution_count": 2,
   "id": "681d01f6",
   "metadata": {},
   "outputs": [
    {
     "data": {
      "application/vnd.microsoft.datawrangler.viewer.v0+json": {
       "columns": [
        {
         "name": "index",
         "rawType": "int64",
         "type": "integer"
        },
        {
         "name": "authorDisplayName",
         "rawType": "object",
         "type": "string"
        },
        {
         "name": "likeCount",
         "rawType": "int64",
         "type": "integer"
        },
        {
         "name": "publishedAt",
         "rawType": "object",
         "type": "string"
        },
        {
         "name": "updatedAt",
         "rawType": "object",
         "type": "string"
        },
        {
         "name": "authorChannelId",
         "rawType": "object",
         "type": "string"
        },
        {
         "name": "authorChannelUrl",
         "rawType": "object",
         "type": "string"
        },
        {
         "name": "authorProfileImageUrl",
         "rawType": "object",
         "type": "string"
        },
        {
         "name": "textDisplay",
         "rawType": "object",
         "type": "string"
        },
        {
         "name": "textOriginal",
         "rawType": "object",
         "type": "string"
        },
        {
         "name": "isPublic",
         "rawType": "bool",
         "type": "boolean"
        },
        {
         "name": "commentType",
         "rawType": "object",
         "type": "string"
        }
       ],
       "conversionMethod": "pd.DataFrame",
       "ref": "e1b0a99a-f3a2-4163-a2b9-20358d1558a0",
       "rows": [
        [
         "0",
         "@fauzanrizky6144",
         "0",
         "2025-04-04T12:11:14Z",
         "2025-04-04T12:11:14Z",
         "UC7B_hymMhLZz-ZLM853_JMA",
         "http://www.youtube.com/@fauzanrizky6144",
         "https://yt3.ggpht.com/ytc/AIdro_ky_QUbyQL0K-mXTJI7LAEnM77h-33Engtfvi5pqSoK3gCz=s48-c-k-c0x00ffffff-no-rj",
         "sekilas kaya michael scofield",
         "sekilas kaya michael scofield",
         "True",
         "Top-level"
        ],
        [
         "1",
         "@ryugavinra",
         "0",
         "2025-04-04T03:47:36Z",
         "2025-04-04T03:47:36Z",
         "UCfdYelsGAWjs6mLqikHsNcg",
         "http://www.youtube.com/@ryugavinra",
         "https://yt3.ggpht.com/OUPPTxoNKmXzHN0kAv10S4y97vmkzHZBbqC_GDTol8s0PHphvYg0sFzRovg-FfIphe4PL-F5-A=s48-c-k-c0x00ffffff-no-rj",
         "menit <a href=\"https://www.youtube.com/watch?v=xFjIXNz0Muc&amp;t=1380\">23:00</a> adalah niche yg bisa membuat penonton banyak pak sandi 😂",
         "menit 23:00 adalah niche yg bisa membuat penonton banyak pak sandi 😂",
         "True",
         "Top-level"
        ],
        [
         "2",
         "@BobbyHasan-zt1lk",
         "0",
         "2025-04-04T02:45:16Z",
         "2025-04-04T02:45:16Z",
         "UCpqiYCdIHD_JKcg5PXpBHaQ",
         "http://www.youtube.com/@BobbyHasan-zt1lk",
         "https://yt3.ggpht.com/ytc/AIdro_k72kUK-NdEdKfvEjJEUjhKu5jOpxP8mcXuVAfdnchHTvhLLwVeyihENTDtYpKNM5EVmA=s48-c-k-c0x00ffffff-no-rj",
         "Puasa jgn bocor",
         "Puasa jgn bocor",
         "True",
         "Top-level"
        ],
        [
         "3",
         "@triyaniterter2132",
         "0",
         "2025-04-03T15:54:02Z",
         "2025-04-03T15:55:58Z",
         "UCwUy8KkggwYmFcCu840nXMg",
         "http://www.youtube.com/@triyaniterter2132",
         "https://yt3.ggpht.com/ytc/AIdro_nKPij0WBfvGafiFc_dKq9pq9WtCimeokg3ZnSgHbxcnZM=s48-c-k-c0x00ffffff-no-rj",
         "KPI nya penyerapan <a href=\"UCkszU2WH9gy1mb0dV-11UJg/LsMfY8P6G-yckNAPjoWA8AI\"></a>",
         "KPI nya penyerapan ",
         "True",
         "Top-level"
        ],
        [
         "4",
         "@Pattyeleven",
         "0",
         "2025-04-03T15:07:59Z",
         "2025-04-03T15:07:59Z",
         "UC246Owaf6SyDhFyy9UYoNog",
         "http://www.youtube.com/@Pattyeleven",
         "https://yt3.ggpht.com/ytc/AIdro_mzmAXMrGAIXVzQNu1SiN0iBePm3_26zAAJNQMnq2kzHNg=s48-c-k-c0x00ffffff-no-rj",
         "Ada ordal selesai",
         "Ada ordal selesai",
         "True",
         "Top-level"
        ]
       ],
       "shape": {
        "columns": 11,
        "rows": 5
       }
      },
      "text/html": [
       "<div>\n",
       "<style scoped>\n",
       "    .dataframe tbody tr th:only-of-type {\n",
       "        vertical-align: middle;\n",
       "    }\n",
       "\n",
       "    .dataframe tbody tr th {\n",
       "        vertical-align: top;\n",
       "    }\n",
       "\n",
       "    .dataframe thead th {\n",
       "        text-align: right;\n",
       "    }\n",
       "</style>\n",
       "<table border=\"1\" class=\"dataframe\">\n",
       "  <thead>\n",
       "    <tr style=\"text-align: right;\">\n",
       "      <th></th>\n",
       "      <th>authorDisplayName</th>\n",
       "      <th>likeCount</th>\n",
       "      <th>publishedAt</th>\n",
       "      <th>updatedAt</th>\n",
       "      <th>authorChannelId</th>\n",
       "      <th>authorChannelUrl</th>\n",
       "      <th>authorProfileImageUrl</th>\n",
       "      <th>textDisplay</th>\n",
       "      <th>textOriginal</th>\n",
       "      <th>isPublic</th>\n",
       "      <th>commentType</th>\n",
       "    </tr>\n",
       "  </thead>\n",
       "  <tbody>\n",
       "    <tr>\n",
       "      <th>0</th>\n",
       "      <td>@fauzanrizky6144</td>\n",
       "      <td>0</td>\n",
       "      <td>2025-04-04T12:11:14Z</td>\n",
       "      <td>2025-04-04T12:11:14Z</td>\n",
       "      <td>UC7B_hymMhLZz-ZLM853_JMA</td>\n",
       "      <td>http://www.youtube.com/@fauzanrizky6144</td>\n",
       "      <td>https://yt3.ggpht.com/ytc/AIdro_ky_QUbyQL0K-mX...</td>\n",
       "      <td>sekilas kaya michael scofield</td>\n",
       "      <td>sekilas kaya michael scofield</td>\n",
       "      <td>True</td>\n",
       "      <td>Top-level</td>\n",
       "    </tr>\n",
       "    <tr>\n",
       "      <th>1</th>\n",
       "      <td>@ryugavinra</td>\n",
       "      <td>0</td>\n",
       "      <td>2025-04-04T03:47:36Z</td>\n",
       "      <td>2025-04-04T03:47:36Z</td>\n",
       "      <td>UCfdYelsGAWjs6mLqikHsNcg</td>\n",
       "      <td>http://www.youtube.com/@ryugavinra</td>\n",
       "      <td>https://yt3.ggpht.com/OUPPTxoNKmXzHN0kAv10S4y9...</td>\n",
       "      <td>menit &lt;a href=\"https://www.youtube.com/watch?v...</td>\n",
       "      <td>menit 23:00 adalah niche yg bisa membuat penon...</td>\n",
       "      <td>True</td>\n",
       "      <td>Top-level</td>\n",
       "    </tr>\n",
       "    <tr>\n",
       "      <th>2</th>\n",
       "      <td>@BobbyHasan-zt1lk</td>\n",
       "      <td>0</td>\n",
       "      <td>2025-04-04T02:45:16Z</td>\n",
       "      <td>2025-04-04T02:45:16Z</td>\n",
       "      <td>UCpqiYCdIHD_JKcg5PXpBHaQ</td>\n",
       "      <td>http://www.youtube.com/@BobbyHasan-zt1lk</td>\n",
       "      <td>https://yt3.ggpht.com/ytc/AIdro_k72kUK-NdEdKfv...</td>\n",
       "      <td>Puasa jgn bocor</td>\n",
       "      <td>Puasa jgn bocor</td>\n",
       "      <td>True</td>\n",
       "      <td>Top-level</td>\n",
       "    </tr>\n",
       "    <tr>\n",
       "      <th>3</th>\n",
       "      <td>@triyaniterter2132</td>\n",
       "      <td>0</td>\n",
       "      <td>2025-04-03T15:54:02Z</td>\n",
       "      <td>2025-04-03T15:55:58Z</td>\n",
       "      <td>UCwUy8KkggwYmFcCu840nXMg</td>\n",
       "      <td>http://www.youtube.com/@triyaniterter2132</td>\n",
       "      <td>https://yt3.ggpht.com/ytc/AIdro_nKPij0WBfvGafi...</td>\n",
       "      <td>KPI nya penyerapan &lt;a href=\"UCkszU2WH9gy1mb0dV...</td>\n",
       "      <td>KPI nya penyerapan</td>\n",
       "      <td>True</td>\n",
       "      <td>Top-level</td>\n",
       "    </tr>\n",
       "    <tr>\n",
       "      <th>4</th>\n",
       "      <td>@Pattyeleven</td>\n",
       "      <td>0</td>\n",
       "      <td>2025-04-03T15:07:59Z</td>\n",
       "      <td>2025-04-03T15:07:59Z</td>\n",
       "      <td>UC246Owaf6SyDhFyy9UYoNog</td>\n",
       "      <td>http://www.youtube.com/@Pattyeleven</td>\n",
       "      <td>https://yt3.ggpht.com/ytc/AIdro_mzmAXMrGAIXVzQ...</td>\n",
       "      <td>Ada ordal selesai</td>\n",
       "      <td>Ada ordal selesai</td>\n",
       "      <td>True</td>\n",
       "      <td>Top-level</td>\n",
       "    </tr>\n",
       "  </tbody>\n",
       "</table>\n",
       "</div>"
      ],
      "text/plain": [
       "    authorDisplayName  likeCount           publishedAt             updatedAt  \\\n",
       "0    @fauzanrizky6144          0  2025-04-04T12:11:14Z  2025-04-04T12:11:14Z   \n",
       "1         @ryugavinra          0  2025-04-04T03:47:36Z  2025-04-04T03:47:36Z   \n",
       "2   @BobbyHasan-zt1lk          0  2025-04-04T02:45:16Z  2025-04-04T02:45:16Z   \n",
       "3  @triyaniterter2132          0  2025-04-03T15:54:02Z  2025-04-03T15:55:58Z   \n",
       "4        @Pattyeleven          0  2025-04-03T15:07:59Z  2025-04-03T15:07:59Z   \n",
       "\n",
       "            authorChannelId                           authorChannelUrl  \\\n",
       "0  UC7B_hymMhLZz-ZLM853_JMA    http://www.youtube.com/@fauzanrizky6144   \n",
       "1  UCfdYelsGAWjs6mLqikHsNcg         http://www.youtube.com/@ryugavinra   \n",
       "2  UCpqiYCdIHD_JKcg5PXpBHaQ   http://www.youtube.com/@BobbyHasan-zt1lk   \n",
       "3  UCwUy8KkggwYmFcCu840nXMg  http://www.youtube.com/@triyaniterter2132   \n",
       "4  UC246Owaf6SyDhFyy9UYoNog        http://www.youtube.com/@Pattyeleven   \n",
       "\n",
       "                               authorProfileImageUrl  \\\n",
       "0  https://yt3.ggpht.com/ytc/AIdro_ky_QUbyQL0K-mX...   \n",
       "1  https://yt3.ggpht.com/OUPPTxoNKmXzHN0kAv10S4y9...   \n",
       "2  https://yt3.ggpht.com/ytc/AIdro_k72kUK-NdEdKfv...   \n",
       "3  https://yt3.ggpht.com/ytc/AIdro_nKPij0WBfvGafi...   \n",
       "4  https://yt3.ggpht.com/ytc/AIdro_mzmAXMrGAIXVzQ...   \n",
       "\n",
       "                                         textDisplay  \\\n",
       "0                      sekilas kaya michael scofield   \n",
       "1  menit <a href=\"https://www.youtube.com/watch?v...   \n",
       "2                                    Puasa jgn bocor   \n",
       "3  KPI nya penyerapan <a href=\"UCkszU2WH9gy1mb0dV...   \n",
       "4                                  Ada ordal selesai   \n",
       "\n",
       "                                        textOriginal  isPublic commentType  \n",
       "0                      sekilas kaya michael scofield      True   Top-level  \n",
       "1  menit 23:00 adalah niche yg bisa membuat penon...      True   Top-level  \n",
       "2                                    Puasa jgn bocor      True   Top-level  \n",
       "3                                KPI nya penyerapan       True   Top-level  \n",
       "4                                  Ada ordal selesai      True   Top-level  "
      ]
     },
     "execution_count": 2,
     "metadata": {},
     "output_type": "execute_result"
    }
   ],
   "source": [
    "file_path = '../data/raw/final.xlsx'\n",
    "df = load_raw_data(file_path)\n",
    "df.head()"
   ]
  },
  {
   "cell_type": "code",
   "execution_count": 3,
   "id": "26cee145",
   "metadata": {},
   "outputs": [
    {
     "data": {
      "application/vnd.microsoft.datawrangler.viewer.v0+json": {
       "columns": [
        {
         "name": "index",
         "rawType": "int64",
         "type": "integer"
        },
        {
         "name": "textOriginal",
         "rawType": "object",
         "type": "string"
        }
       ],
       "conversionMethod": "pd.DataFrame",
       "ref": "731ce64b-6cf7-40ef-ae23-1a9a17865134",
       "rows": [
        [
         "0",
         "sekilas kaya michael scofield"
        ],
        [
         "1",
         "menit 23:00 adalah niche yg bisa membuat penonton banyak pak sandi 😂"
        ],
        [
         "2",
         "Puasa jgn bocor"
        ],
        [
         "3",
         "KPI nya penyerapan "
        ],
        [
         "4",
         "Ada ordal selesai"
        ]
       ],
       "shape": {
        "columns": 1,
        "rows": 5
       }
      },
      "text/html": [
       "<div>\n",
       "<style scoped>\n",
       "    .dataframe tbody tr th:only-of-type {\n",
       "        vertical-align: middle;\n",
       "    }\n",
       "\n",
       "    .dataframe tbody tr th {\n",
       "        vertical-align: top;\n",
       "    }\n",
       "\n",
       "    .dataframe thead th {\n",
       "        text-align: right;\n",
       "    }\n",
       "</style>\n",
       "<table border=\"1\" class=\"dataframe\">\n",
       "  <thead>\n",
       "    <tr style=\"text-align: right;\">\n",
       "      <th></th>\n",
       "      <th>textOriginal</th>\n",
       "    </tr>\n",
       "  </thead>\n",
       "  <tbody>\n",
       "    <tr>\n",
       "      <th>0</th>\n",
       "      <td>sekilas kaya michael scofield</td>\n",
       "    </tr>\n",
       "    <tr>\n",
       "      <th>1</th>\n",
       "      <td>menit 23:00 adalah niche yg bisa membuat penon...</td>\n",
       "    </tr>\n",
       "    <tr>\n",
       "      <th>2</th>\n",
       "      <td>Puasa jgn bocor</td>\n",
       "    </tr>\n",
       "    <tr>\n",
       "      <th>3</th>\n",
       "      <td>KPI nya penyerapan</td>\n",
       "    </tr>\n",
       "    <tr>\n",
       "      <th>4</th>\n",
       "      <td>Ada ordal selesai</td>\n",
       "    </tr>\n",
       "  </tbody>\n",
       "</table>\n",
       "</div>"
      ],
      "text/plain": [
       "                                        textOriginal\n",
       "0                      sekilas kaya michael scofield\n",
       "1  menit 23:00 adalah niche yg bisa membuat penon...\n",
       "2                                    Puasa jgn bocor\n",
       "3                                KPI nya penyerapan \n",
       "4                                  Ada ordal selesai"
      ]
     },
     "execution_count": 3,
     "metadata": {},
     "output_type": "execute_result"
    }
   ],
   "source": [
    "comments = pd.DataFrame(df['textOriginal'])\n",
    "comments = comments.astype(str)\n",
    "comments.drop_duplicates(inplace=True)\n",
    "comments.reset_index(drop=True, inplace=True)\n",
    "comments.head()"
   ]
  },
  {
   "cell_type": "markdown",
   "id": "98872651",
   "metadata": {},
   "source": [
    "**Using Preprocessing_text function**"
   ]
  },
  {
   "cell_type": "code",
   "execution_count": 4,
   "id": "b9f905d2",
   "metadata": {},
   "outputs": [
    {
     "data": {
      "application/vnd.microsoft.datawrangler.viewer.v0+json": {
       "columns": [
        {
         "name": "index",
         "rawType": "int64",
         "type": "integer"
        },
        {
         "name": "textOriginal",
         "rawType": "object",
         "type": "string"
        },
        {
         "name": "processed_text",
         "rawType": "object",
         "type": "string"
        }
       ],
       "conversionMethod": "pd.DataFrame",
       "ref": "7ebf1a88-2b96-432d-a72f-315bea15f1e2",
       "rows": [
        [
         "0",
         "sekilas kaya michael scofield",
         "kilas kaya michael scofield"
        ],
        [
         "1",
         "menit 23:00 adalah niche yg bisa membuat penonton banyak pak sandi 😂",
         "menit 2300 niche yg tonton sandi"
        ],
        [
         "2",
         "Puasa jgn bocor",
         "puasa jgn bocor"
        ],
        [
         "3",
         "KPI nya penyerapan ",
         "kpi nya serap"
        ],
        [
         "4",
         "Ada ordal selesai",
         "ordal selesai"
        ]
       ],
       "shape": {
        "columns": 2,
        "rows": 5
       }
      },
      "text/html": [
       "<div>\n",
       "<style scoped>\n",
       "    .dataframe tbody tr th:only-of-type {\n",
       "        vertical-align: middle;\n",
       "    }\n",
       "\n",
       "    .dataframe tbody tr th {\n",
       "        vertical-align: top;\n",
       "    }\n",
       "\n",
       "    .dataframe thead th {\n",
       "        text-align: right;\n",
       "    }\n",
       "</style>\n",
       "<table border=\"1\" class=\"dataframe\">\n",
       "  <thead>\n",
       "    <tr style=\"text-align: right;\">\n",
       "      <th></th>\n",
       "      <th>textOriginal</th>\n",
       "      <th>processed_text</th>\n",
       "    </tr>\n",
       "  </thead>\n",
       "  <tbody>\n",
       "    <tr>\n",
       "      <th>0</th>\n",
       "      <td>sekilas kaya michael scofield</td>\n",
       "      <td>kilas kaya michael scofield</td>\n",
       "    </tr>\n",
       "    <tr>\n",
       "      <th>1</th>\n",
       "      <td>menit 23:00 adalah niche yg bisa membuat penon...</td>\n",
       "      <td>menit 2300 niche yg tonton sandi</td>\n",
       "    </tr>\n",
       "    <tr>\n",
       "      <th>2</th>\n",
       "      <td>Puasa jgn bocor</td>\n",
       "      <td>puasa jgn bocor</td>\n",
       "    </tr>\n",
       "    <tr>\n",
       "      <th>3</th>\n",
       "      <td>KPI nya penyerapan</td>\n",
       "      <td>kpi nya serap</td>\n",
       "    </tr>\n",
       "    <tr>\n",
       "      <th>4</th>\n",
       "      <td>Ada ordal selesai</td>\n",
       "      <td>ordal selesai</td>\n",
       "    </tr>\n",
       "  </tbody>\n",
       "</table>\n",
       "</div>"
      ],
      "text/plain": [
       "                                        textOriginal  \\\n",
       "0                      sekilas kaya michael scofield   \n",
       "1  menit 23:00 adalah niche yg bisa membuat penon...   \n",
       "2                                    Puasa jgn bocor   \n",
       "3                                KPI nya penyerapan    \n",
       "4                                  Ada ordal selesai   \n",
       "\n",
       "                     processed_text  \n",
       "0       kilas kaya michael scofield  \n",
       "1  menit 2300 niche yg tonton sandi  \n",
       "2                   puasa jgn bocor  \n",
       "3                     kpi nya serap  \n",
       "4                     ordal selesai  "
      ]
     },
     "execution_count": 4,
     "metadata": {},
     "output_type": "execute_result"
    }
   ],
   "source": [
    "comments['processed_text'] = comments['textOriginal'].apply(preprocess_text)\n",
    "comments.head()"
   ]
  },
  {
   "cell_type": "code",
   "execution_count": null,
   "id": "4e132ef2",
   "metadata": {},
   "outputs": [
    {
     "data": {
      "application/vnd.microsoft.datawrangler.viewer.v0+json": {
       "columns": [
        {
         "name": "index",
         "rawType": "int64",
         "type": "integer"
        },
        {
         "name": "textOriginal",
         "rawType": "object",
         "type": "string"
        },
        {
         "name": "processed_text",
         "rawType": "object",
         "type": "string"
        },
        {
         "name": "label",
         "rawType": "int64",
         "type": "integer"
        }
       ],
       "conversionMethod": "pd.DataFrame",
       "ref": "6babdab7-e09e-4139-a6ed-95662c0495a5",
       "rows": [
        [
         "0",
         "sekilas kaya michael scofield",
         "kilas kaya michael scofield",
         "0"
        ],
        [
         "1",
         "menit 23:00 adalah niche yg bisa membuat penonton banyak pak sandi 😂",
         "menit 2300 niche yg tonton sandi",
         "0"
        ],
        [
         "2",
         "Puasa jgn bocor",
         "puasa jgn bocor",
         "0"
        ],
        [
         "3",
         "KPI nya penyerapan ",
         "kpi nya serap",
         "0"
        ],
        [
         "4",
         "Ada ordal selesai",
         "ordal selesai",
         "0"
        ]
       ],
       "shape": {
        "columns": 3,
        "rows": 5
       }
      },
      "text/html": [
       "<div>\n",
       "<style scoped>\n",
       "    .dataframe tbody tr th:only-of-type {\n",
       "        vertical-align: middle;\n",
       "    }\n",
       "\n",
       "    .dataframe tbody tr th {\n",
       "        vertical-align: top;\n",
       "    }\n",
       "\n",
       "    .dataframe thead th {\n",
       "        text-align: right;\n",
       "    }\n",
       "</style>\n",
       "<table border=\"1\" class=\"dataframe\">\n",
       "  <thead>\n",
       "    <tr style=\"text-align: right;\">\n",
       "      <th></th>\n",
       "      <th>textOriginal</th>\n",
       "      <th>processed_text</th>\n",
       "      <th>label</th>\n",
       "    </tr>\n",
       "  </thead>\n",
       "  <tbody>\n",
       "    <tr>\n",
       "      <th>0</th>\n",
       "      <td>sekilas kaya michael scofield</td>\n",
       "      <td>kilas kaya michael scofield</td>\n",
       "      <td>0</td>\n",
       "    </tr>\n",
       "    <tr>\n",
       "      <th>1</th>\n",
       "      <td>menit 23:00 adalah niche yg bisa membuat penon...</td>\n",
       "      <td>menit 2300 niche yg tonton sandi</td>\n",
       "      <td>0</td>\n",
       "    </tr>\n",
       "    <tr>\n",
       "      <th>2</th>\n",
       "      <td>Puasa jgn bocor</td>\n",
       "      <td>puasa jgn bocor</td>\n",
       "      <td>0</td>\n",
       "    </tr>\n",
       "    <tr>\n",
       "      <th>3</th>\n",
       "      <td>KPI nya penyerapan</td>\n",
       "      <td>kpi nya serap</td>\n",
       "      <td>0</td>\n",
       "    </tr>\n",
       "    <tr>\n",
       "      <th>4</th>\n",
       "      <td>Ada ordal selesai</td>\n",
       "      <td>ordal selesai</td>\n",
       "      <td>0</td>\n",
       "    </tr>\n",
       "  </tbody>\n",
       "</table>\n",
       "</div>"
      ],
      "text/plain": [
       "                                        textOriginal  \\\n",
       "0                      sekilas kaya michael scofield   \n",
       "1  menit 23:00 adalah niche yg bisa membuat penon...   \n",
       "2                                    Puasa jgn bocor   \n",
       "3                                KPI nya penyerapan    \n",
       "4                                  Ada ordal selesai   \n",
       "\n",
       "                     processed_text  label  \n",
       "0       kilas kaya michael scofield      0  \n",
       "1  menit 2300 niche yg tonton sandi      0  \n",
       "2                   puasa jgn bocor      0  \n",
       "3                     kpi nya serap      0  \n",
       "4                     ordal selesai      0  "
      ]
     },
     "execution_count": 5,
     "metadata": {},
     "output_type": "execute_result"
    }
   ],
   "source": [
    "keyword_filter = KeywordFilter()\n",
    "keyword_filter.load_keywords('../data/keywords.txt')  \n",
    "comments['label'] = comments['processed_text'].apply(\n",
    "    lambda x: 1 if x in keyword_filter.filter_comments(comments) else 0\n",
    ")\n",
    "comments.head()"
   ]
  },
  {
   "cell_type": "code",
   "execution_count": 6,
   "id": "c4e082da",
   "metadata": {},
   "outputs": [
    {
     "data": {
      "text/plain": [
       "label\n",
       "0    12152\n",
       "1     1210\n",
       "Name: count, dtype: int64"
      ]
     },
     "execution_count": 6,
     "metadata": {},
     "output_type": "execute_result"
    }
   ],
   "source": [
    "comments['label'].value_counts()"
   ]
  },
  {
   "cell_type": "code",
   "execution_count": 7,
   "id": "4fe9b09d",
   "metadata": {},
   "outputs": [],
   "source": [
    "output_path = '../data/processed/cleaned_comments.csv'\n",
    "comments.to_csv(output_path, index=False)"
   ]
  }
 ],
 "metadata": {
  "kernelspec": {
   "display_name": "base",
   "language": "python",
   "name": "python3"
  },
  "language_info": {
   "codemirror_mode": {
    "name": "ipython",
    "version": 3
   },
   "file_extension": ".py",
   "mimetype": "text/x-python",
   "name": "python",
   "nbconvert_exporter": "python",
   "pygments_lexer": "ipython3",
   "version": "3.12.7"
  }
 },
 "nbformat": 4,
 "nbformat_minor": 5
}
